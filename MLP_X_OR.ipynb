{
  "cells": [
    {
      "cell_type": "code",
      "source": [
        "import numpy as np\n",
        "import matplotlib.pyplot as plt\n",
        "from sklearn.metrics import roc_curve, auc"
      ],
      "metadata": {
        "id": "7plrl2x9T9wi"
      },
      "execution_count": 2,
      "outputs": []
    },
    {
      "cell_type": "code",
      "source": [
        "X = np.array([[0,0],[0,1],[1,0],[1,1]])\n",
        "y = np.array([[0],[1],[1],[0]])"
      ],
      "metadata": {
        "id": "EKWLhlZCUEAR"
      },
      "execution_count": 3,
      "outputs": []
    },
    {
      "cell_type": "code",
      "source": [
        "def sigmoid(x): return 1 / (1 + np.exp(-x))\n",
        "def sigmoid_deriv(x): return x * (1 - x)\n",
        "\n",
        "def relu(x): return np.maximum(0, x)\n",
        "def relu_deriv(x): return (x > 0).astype(float)"
      ],
      "metadata": {
        "id": "PmkpUYbAUMsI"
      },
      "execution_count": 4,
      "outputs": []
    },
    {
      "cell_type": "code",
      "source": [
        "\n",
        "# Training function\n",
        "def train_MLP(X, y, hidden_activation=\"sigmoid\", lr=0.1, epochs=5000):\n",
        "    np.random.seed(42)\n",
        "    n_input, n_hidden, n_output = 2, 2, 1\n",
        "\n",
        "    # Weight initialization\n",
        "    W1 = np.random.randn(n_input, n_hidden)\n",
        "    b1 = np.zeros((1, n_hidden))\n",
        "    W2 = np.random.randn(n_hidden, n_output)\n",
        "    b2 = np.zeros((1, n_output))\n",
        "\n",
        "    # Select activation\n",
        "    act = sigmoid if hidden_activation==\"sigmoid\" else relu\n",
        "    act_deriv = sigmoid_deriv if hidden_activation==\"sigmoid\" else relu_deriv\n",
        "\n",
        "    for epoch in range(epochs):\n",
        "        # Forward pass\n",
        "        z1 = np.dot(X, W1) + b1\n",
        "        a1 = act(z1)\n",
        "        z2 = np.dot(a1, W2) + b2\n",
        "        y_hat = sigmoid(z2)\n",
        "\n",
        "        # Loss (MSE)\n",
        "        loss = np.mean((y - y_hat) ** 2)\n",
        "\n",
        "        # Backpropagation\n",
        "        d_loss = (y_hat - y) * sigmoid_deriv(y_hat)\n",
        "        dW2 = np.dot(a1.T, d_loss)\n",
        "        db2 = np.sum(d_loss, axis=0, keepdims=True)\n",
        "\n",
        "        d_hidden = np.dot(d_loss, W2.T) * act_deriv(a1)\n",
        "        dW1 = np.dot(X.T, d_hidden)\n",
        "        db1 = np.sum(d_hidden, axis=0, keepdims=True)\n",
        "\n",
        "        # Weight updates\n",
        "        W1 -= lr * dW1\n",
        "        b1 -= lr * db1\n",
        "        W2 -= lr * dW2\n",
        "        b2 -= lr * db2\n",
        "\n",
        "    return W1, b1, W2, b2, loss"
      ],
      "metadata": {
        "id": "2Mn0SLhkV_lh"
      },
      "execution_count": 5,
      "outputs": []
    },
    {
      "cell_type": "code",
      "source": [
        "# Prediction\n",
        "def predict(X, W1, b1, W2, b2, activation=\"sigmoid\"):\n",
        "    act = sigmoid if activation==\"sigmoid\" else relu\n",
        "    z1 = np.dot(X, W1) + b1\n",
        "    a1 = act(z1)\n",
        "    z2 = np.dot(a1, W2) + b2\n",
        "    return sigmoid(z2)"
      ],
      "metadata": {
        "id": "8-FCLvU2WVg0"
      },
      "execution_count": 6,
      "outputs": []
    },
    {
      "cell_type": "code",
      "source": [
        "# Train\n",
        "W1, b1, W2, b2, loss = train_MLP(X, y, hidden_activation=\"sigmoid\", lr=0.1, epochs=5000)\n",
        "y_pred = predict(X, W1, b1, W2, b2, \"sigmoid\")"
      ],
      "metadata": {
        "id": "D0Vb2WQlWlUx"
      },
      "execution_count": 7,
      "outputs": []
    },
    {
      "cell_type": "code",
      "source": [
        "# Convert to binary\n",
        "y_pred_class = (y_pred > 0.5).astype(int)"
      ],
      "metadata": {
        "id": "gNCIIzS7W5lm"
      },
      "execution_count": 8,
      "outputs": []
    },
    {
      "cell_type": "code",
      "source": [
        "# Evaluation metrics from scratch\n",
        "TP = np.sum((y==1) & (y_pred_class==1))\n",
        "TN = np.sum((y==0) & (y_pred_class==0))\n",
        "FP = np.sum((y==0) & (y_pred_class==1))\n",
        "FN = np.sum((y==1) & (y_pred_class==0))\n",
        "\n",
        "accuracy = (TP+TN) / len(y)\n",
        "precision = TP / (TP+FP+1e-8)\n",
        "recall = TP / (TP+FN+1e-8)\n",
        "f1 = 2 * precision * recall / (precision+recall+1e-8)\n",
        "\n",
        "print(\"Predictions:\", y_pred_class.ravel())\n",
        "print(f\"Accuracy: {accuracy:.2f}\")\n",
        "print(f\"Precision: {precision:.2f}, Recall: {recall:.2f}, F1: {f1:.2f}\")"
      ],
      "metadata": {
        "id": "bKuLh432XCgg",
        "outputId": "f186bec3-5eab-479f-b50f-c98639a5ef99",
        "colab": {
          "base_uri": "https://localhost:8080/"
        }
      },
      "execution_count": 9,
      "outputs": [
        {
          "output_type": "stream",
          "name": "stdout",
          "text": [
            "Predictions: [0 0 1 1]\n",
            "Accuracy: 0.50\n",
            "Precision: 0.50, Recall: 0.50, F1: 0.50\n"
          ]
        }
      ]
    },
    {
      "cell_type": "code",
      "source": [
        "# ROC Curve\n",
        "fpr, tpr, _ = roc_curve(y, y_pred)\n",
        "roc_auc = auc(fpr, tpr)\n",
        "\n",
        "plt.plot(fpr, tpr, label=f\"ROC curve (area={roc_auc:.2f})\")\n",
        "plt.plot([0,1],[0,1],'k--')\n",
        "plt.xlabel(\"False Positive Rate\")\n",
        "plt.ylabel(\"True Positive Rate\")\n",
        "plt.legend()\n",
        "plt.show()"
      ],
      "metadata": {
        "id": "WdI3uOxbXJwv",
        "outputId": "cabf5053-8438-4433-ede4-b8e4333a2309",
        "colab": {
          "base_uri": "https://localhost:8080/",
          "height": 449
        }
      },
      "execution_count": 10,
      "outputs": [
        {
          "output_type": "display_data",
          "data": {
            "text/plain": [
              "<Figure size 640x480 with 1 Axes>"
            ],
            "image/png": "[encoded data removed]"
          },
          "metadata": {}
        }
      ]
    }
  ],
  "metadata": {
    "colab": {
      "toc_visible": true,
      "provenance": []
    },
    "kernelspec": {
      "display_name": "Python 3",
      "name": "python3"
    }
  },
  "nbformat": 4,
  "nbformat_minor": 0
}